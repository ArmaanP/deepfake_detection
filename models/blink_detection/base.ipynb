{
 "metadata": {
  "language_info": {
   "codemirror_mode": {
    "name": "ipython",
    "version": 3
   },
   "file_extension": ".py",
   "mimetype": "text/x-python",
   "name": "python",
   "nbconvert_exporter": "python",
   "pygments_lexer": "ipython3",
   "version": "3.8.2-final"
  },
  "orig_nbformat": 2,
  "kernelspec": {
   "name": "python_defaultSpec_1597040899029",
   "display_name": "Python 3.8.2 64-bit ('deepfake-detection': pipenv)"
  }
 },
 "nbformat": 4,
 "nbformat_minor": 2,
 "cells": [
  {
   "cell_type": "code",
   "execution_count": null,
   "metadata": {},
   "outputs": [],
   "source": [
    "import os\n",
    "import shlex\n",
    "import subprocess\n",
    "from subprocess import PIPE, Popen\n",
    "\n",
    "from detect_blinks import *\n",
    "from sklearn.metrics import (accuracy_score, classification_report, \n",
    "                             roc_auc_score)\n",
    "from sklearn.model_selection import train_test_split"
   ]
  },
  {
   "cell_type": "code",
   "execution_count": null,
   "metadata": {
    "tags": []
   },
   "outputs": [],
   "source": [
    "#create labels array\n",
    "path = '../../data/train/'\n",
    "real_videos = path + 'REAL'\n",
    "fake_videos = path +'FAKE'\n",
    "y = [1] * len(sorted(os.listdir(real_videos)))\n",
    "y.extend([0] * len(sorted(os.listdir(fake_videos))))\n",
    "print(y)\n"
   ]
  },
  {
   "cell_type": "code",
   "execution_count": null,
   "metadata": {
    "tags": []
   },
   "outputs": [],
   "source": [
    "#run detect_blinks.py script on all videos and store number of blinks\n",
    "blinks = []\n",
    "for video_file in sorted(os.listdir(real_videos)):\n",
    "    if \".mp4\" in str(video_file):\n",
    "        output = get_ipython().getoutput('python detect_blinks.py $real_videos/$video_file shape_predictor_68_face_landmarks.dat')\n",
    "        print('REAL', str(video_file), output)\n",
    "        blinks.extend(output)\n",
    "\n",
    "for video_file in sorted(os.listdir(fake_videos)):\n",
    "    if \".mp4\" in str(video_file):\n",
    "        output = get_ipython().getoutput('python detect_blinks.py $fake_videos/$video_file shape_predictor_68_face_landmarks.dat')\n",
    "        print('FAKE', str(video_file), output)\n",
    "        blinks.extend(output)\n"
   ]
  },
  {
   "cell_type": "code",
   "execution_count": null,
   "metadata": {},
   "outputs": [],
   "source": [
    "# split data\n",
    "X_train, X_test, y_train, y_test = train_test_split(blinks, y, test_size=0.75, random_state=42)\n",
    "\n",
    "#KNN classifer\n",
    "from sklearn import neighbors\n",
    "\n",
    "clf = neighbors.KNeighborsClassifier(n_neighbors=10, weights='distance')\n",
    "clf.fit(X_train, y_train)"
   ]
  },
  {
   "cell_type": "code",
   "execution_count": null,
   "metadata": {},
   "outputs": [],
   "source": [
    "#predict on test sample\n",
    "pred = clf.predict(X_test)\n",
    "scores = clf.predict_proba(X_test)[:,1]\n",
    "\n",
    "print('Accuracy: ', accuracy_score(y_test, pred))\n",
    "print('AUROC: ', roc_auc_score(y_test, scores))\n",
    "print(classification_report(y_test, pred))"
   ]
  },
  {
   "cell_type": "code",
   "execution_count": null,
   "metadata": {},
   "outputs": [],
   "source": [
    "# Save the model as a pickle in a file\n",
    "import joblib\n",
    "joblib.dump(clf, '../output_models/bd_base.pkl') "
   ]
  },
  {
   "cell_type": "code",
   "execution_count": null,
   "metadata": {},
   "outputs": [],
   "source": []
  }
 ]
}